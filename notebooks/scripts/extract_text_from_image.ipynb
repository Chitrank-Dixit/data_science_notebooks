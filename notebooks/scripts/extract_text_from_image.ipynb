{
 "cells": [
  {
   "cell_type": "markdown",
   "metadata": {},
   "source": [
    "# Task Description\n",
    "\n",
    "* The task here in this script is to extract text from an image.\n",
    "* mask some of the important data from aadhar card mask the 8 out of 12 digits and mask QR code.\n"
   ]
  },
  {
   "cell_type": "code",
   "execution_count": 1,
   "metadata": {},
   "outputs": [],
   "source": [
    "import cv2\n",
    "import numpy as np\n",
    "#import pyzbar.pyzbar as pyzbar\n",
    "# import the necessary packages\n",
    "from imutils.perspective import four_point_transform\n",
    "from imutils import contours\n",
    "import imutils"
   ]
  },
  {
   "cell_type": "code",
   "execution_count": 2,
   "metadata": {},
   "outputs": [],
   "source": [
    "image = cv2.imread('../datasets/aadharimage/input_aadhar1.jpg')\n",
    "# edges = cv2.Canny(image, 50, 150, apertureSize=3)\n",
    "# minLineLength = 0\n",
    "# maxLineGap = 5\n",
    "# lines = cv2.HoughLinesP(edges, 1, np.pi / 180, 100, minLineLength, maxLineGap)\n",
    "\n",
    "# for x in range(len(lines)):\n",
    "#     for x1, y1, x2, y2 in lines[x]:\n",
    "#         cv2.line(image, (x1, y1), (x2, y2), (0, 0, 0), 2)\n",
    "\n",
    "# cv2.imwrite('../datasets/aadharimage/output_aadhar.png', image)"
   ]
  },
  {
   "cell_type": "code",
   "execution_count": 3,
   "metadata": {},
   "outputs": [],
   "source": [
    "\n",
    "# define the dictionary of digit segments so we can identify\n",
    "# each digit on the thermostat\n",
    "DIGITS_LOOKUP = {\n",
    "    (1, 1, 1, 0, 1, 1, 1): 0,\n",
    "    (0, 0, 1, 0, 0, 1, 0): 1,\n",
    "    (1, 0, 1, 1, 1, 1, 0): 2,\n",
    "    (1, 0, 1, 1, 0, 1, 1): 3,\n",
    "    (0, 1, 1, 1, 0, 1, 0): 4,\n",
    "    (1, 1, 0, 1, 0, 1, 1): 5,\n",
    "    (1, 1, 0, 1, 1, 1, 1): 6,\n",
    "    (1, 0, 1, 0, 0, 1, 0): 7,\n",
    "    (1, 1, 1, 1, 1, 1, 1): 8,\n",
    "    (1, 1, 1, 1, 0, 1, 1): 9\n",
    "}"
   ]
  },
  {
   "cell_type": "code",
   "execution_count": 4,
   "metadata": {},
   "outputs": [],
   "source": [
    "# pre-process the image by resizing it, converting it to\n",
    "# graycale, blurring it, and computing an edge map\n",
    "image = imutils.resize(image, height=500)\n",
    "gray = cv2.cvtColor(image, cv2.COLOR_BGR2GRAY)\n",
    "blurred = cv2.GaussianBlur(gray, (5, 5), 0)\n",
    "edged = cv2.Canny(blurred, 50, 200, 255)"
   ]
  },
  {
   "cell_type": "code",
   "execution_count": 5,
   "metadata": {},
   "outputs": [],
   "source": [
    "# find contours in the edge map, then sort them by their\n",
    "# size in descending order\n",
    "cnts = cv2.findContours(edged.copy(), cv2.RETR_EXTERNAL, cv2.CHAIN_APPROX_SIMPLE)\n",
    "cnts = imutils.grab_contours(cnts)\n",
    "cnts = sorted(cnts, key=cv2.contourArea, reverse=True)\n",
    "displayCnt = None\n",
    " \n",
    "# loop over the contours\n",
    "for c in cnts:\n",
    "    # approximate the contour\n",
    "    peri = cv2.arcLength(c, True)\n",
    "    approx = cv2.approxPolyDP(c, 0.02 * peri, True)\n",
    " \n",
    "    # if the contour has four vertices, then we have found\n",
    "    # the thermostat display\n",
    "    if len(approx) == 4:\n",
    "        displayCnt = approx\n",
    "        break"
   ]
  },
  {
   "cell_type": "code",
   "execution_count": 6,
   "metadata": {},
   "outputs": [],
   "source": [
    "# extract the thermostat display, apply a perspective transform\n",
    "# to it\n",
    "warped = four_point_transform(gray, displayCnt.reshape(4, 2))\n",
    "output = four_point_transform(image, displayCnt.reshape(4, 2))"
   ]
  },
  {
   "cell_type": "code",
   "execution_count": 7,
   "metadata": {},
   "outputs": [],
   "source": [
    "# threshold the warped image, then apply a series of morphological\n",
    "# operations to cleanup the thresholded image\n",
    "thresh = cv2.threshold(warped, 0, 255, cv2.THRESH_BINARY_INV | cv2.THRESH_OTSU)[1]\n",
    "kernel = cv2.getStructuringElement(cv2.MORPH_ELLIPSE, (1, 5))\n",
    "thresh = cv2.morphologyEx(thresh, cv2.MORPH_OPEN, kernel)"
   ]
  },
  {
   "cell_type": "code",
   "execution_count": 8,
   "metadata": {},
   "outputs": [],
   "source": [
    "# find contours in the thresholded image, then initialize the\n",
    "# digit contours lists\n",
    "cnts = cv2.findContours(thresh.copy(), cv2.RETR_EXTERNAL, cv2.CHAIN_APPROX_SIMPLE)\n",
    "cnts = imutils.grab_contours(cnts)\n",
    "digitCnts = []\n",
    " \n",
    "# loop over the digit area candidates\n",
    "for c in cnts:\n",
    "    # compute the bounding box of the contour\n",
    "    (x, y, w, h) = cv2.boundingRect(c)\n",
    " \n",
    "    # if the contour is sufficiently large, it must be a digit\n",
    "    if w >= 15 and (h >= 30 and h <= 40):\n",
    "        digitCnts.append(c)"
   ]
  },
  {
   "cell_type": "code",
   "execution_count": 9,
   "metadata": {},
   "outputs": [
    {
     "ename": "ValueError",
     "evalue": "not enough values to unpack (expected 2, got 0)",
     "output_type": "error",
     "traceback": [
      "\u001b[0;31m---------------------------------------------------------------------------\u001b[0m",
      "\u001b[0;31mValueError\u001b[0m                                Traceback (most recent call last)",
      "\u001b[0;32m<ipython-input-9-9b3855dbc539>\u001b[0m in \u001b[0;36m<module>\u001b[0;34m\u001b[0m\n\u001b[1;32m      1\u001b[0m \u001b[0;31m# sort the contours from left-to-right, then initialize the\u001b[0m\u001b[0;34m\u001b[0m\u001b[0;34m\u001b[0m\u001b[0;34m\u001b[0m\u001b[0m\n\u001b[1;32m      2\u001b[0m \u001b[0;31m# actual digits themselves\u001b[0m\u001b[0;34m\u001b[0m\u001b[0;34m\u001b[0m\u001b[0;34m\u001b[0m\u001b[0m\n\u001b[0;32m----> 3\u001b[0;31m \u001b[0mdigitCnts\u001b[0m \u001b[0;34m=\u001b[0m \u001b[0mcontours\u001b[0m\u001b[0;34m.\u001b[0m\u001b[0msort_contours\u001b[0m\u001b[0;34m(\u001b[0m\u001b[0mdigitCnts\u001b[0m\u001b[0;34m,\u001b[0m \u001b[0mmethod\u001b[0m\u001b[0;34m=\u001b[0m\u001b[0;34m\"left-to-right\"\u001b[0m\u001b[0;34m)\u001b[0m\u001b[0;34m[\u001b[0m\u001b[0;36m0\u001b[0m\u001b[0;34m]\u001b[0m\u001b[0;34m\u001b[0m\u001b[0;34m\u001b[0m\u001b[0m\n\u001b[0m\u001b[1;32m      4\u001b[0m \u001b[0mdigits\u001b[0m \u001b[0;34m=\u001b[0m \u001b[0;34m[\u001b[0m\u001b[0;34m]\u001b[0m\u001b[0;34m\u001b[0m\u001b[0;34m\u001b[0m\u001b[0m\n",
      "\u001b[0;32m/opt/conda/lib/python3.6/site-packages/imutils/contours.py\u001b[0m in \u001b[0;36msort_contours\u001b[0;34m(cnts, method)\u001b[0m\n\u001b[1;32m     23\u001b[0m     \u001b[0mboundingBoxes\u001b[0m \u001b[0;34m=\u001b[0m \u001b[0;34m[\u001b[0m\u001b[0mcv2\u001b[0m\u001b[0;34m.\u001b[0m\u001b[0mboundingRect\u001b[0m\u001b[0;34m(\u001b[0m\u001b[0mc\u001b[0m\u001b[0;34m)\u001b[0m \u001b[0;32mfor\u001b[0m \u001b[0mc\u001b[0m \u001b[0;32min\u001b[0m \u001b[0mcnts\u001b[0m\u001b[0;34m]\u001b[0m\u001b[0;34m\u001b[0m\u001b[0;34m\u001b[0m\u001b[0m\n\u001b[1;32m     24\u001b[0m     (cnts, boundingBoxes) = zip(*sorted(zip(cnts, boundingBoxes),\n\u001b[0;32m---> 25\u001b[0;31m                                         key=lambda b: b[1][i], reverse=reverse))\n\u001b[0m\u001b[1;32m     26\u001b[0m \u001b[0;34m\u001b[0m\u001b[0m\n\u001b[1;32m     27\u001b[0m     \u001b[0;31m# return the list of sorted contours and bounding boxes\u001b[0m\u001b[0;34m\u001b[0m\u001b[0;34m\u001b[0m\u001b[0;34m\u001b[0m\u001b[0m\n",
      "\u001b[0;31mValueError\u001b[0m: not enough values to unpack (expected 2, got 0)"
     ]
    }
   ],
   "source": [
    "# sort the contours from left-to-right, then initialize the\n",
    "# actual digits themselves\n",
    "digitCnts = contours.sort_contours(digitCnts, method=\"left-to-right\")[0]\n",
    "digits = []"
   ]
  },
  {
   "cell_type": "code",
   "execution_count": null,
   "metadata": {},
   "outputs": [],
   "source": [
    "# loop over each of the digits\n",
    "for c in digitCnts:\n",
    "    # extract the digit ROI\n",
    "    (x, y, w, h) = cv2.boundingRect(c)\n",
    "    roi = thresh[y:y + h, x:x + w]\n",
    " \n",
    "    # compute the width and height of each of the 7 segments\n",
    "    # we are going to examine\n",
    "    (roiH, roiW) = roi.shape\n",
    "    (dW, dH) = (int(roiW * 0.25), int(roiH * 0.15))\n",
    "    dHC = int(roiH * 0.05)\n",
    " \n",
    "    # define the set of 7 segments\n",
    "    segments = [\n",
    "        ((0, 0), (w, dH)),# top\n",
    "        ((0, 0), (dW, h // 2)),# top-left\n",
    "        ((w - dW, 0), (w, h // 2)),# top-right\n",
    "        ((0, (h // 2) - dHC) , (w, (h // 2) + dHC)), # center\n",
    "        ((0, h // 2), (dW, h)),# bottom-left\n",
    "        ((w - dW, h // 2), (w, h)),# bottom-right\n",
    "        ((0, h - dH), (w, h))# bottom\n",
    "    ]\n",
    "    on = [0] * len(segments)\n",
    "    \n",
    "    \n",
    "    # loop over the segments\n",
    "    for (i, ((xA, yA), (xB, yB))) in enumerate(segments):\n",
    "        # extract the segment ROI, count the total number of\n",
    "        # thresholded pixels in the segment, and then compute\n",
    "        # the area of the segment\n",
    "        segROI = roi[yA:yB, xA:xB]\n",
    "        total = cv2.countNonZero(segROI)\n",
    "        area = (xB - xA) * (yB - yA)\n",
    " \n",
    "        # if the total number of non-zero pixels is greater than\n",
    "        # 50% of the area, mark the segment as \"on\"\n",
    "        if total / float(area) > 0.5:\n",
    "            on[i]= 1\n",
    " \n",
    "    # lookup the digit and draw it on the image\n",
    "    digit = DIGITS_LOOKUP[tuple(on)]\n",
    "    digits.append(digit)\n",
    "    cv2.rectangle(output, (x, y), (x + w, y + h), (0, 255, 0), 1)\n",
    "    cv2.putText(output, str(digit), (x - 10, y - 10), cv2.FONT_HERSHEY_SIMPLEX, 0.65, (0, 255, 0), 2)"
   ]
  },
  {
   "cell_type": "code",
   "execution_count": null,
   "metadata": {},
   "outputs": [],
   "source": [
    "# display the digits\n",
    "#print(\"{}{}.{} \\u00b0C\".format(*digits))\n",
    "cv2.imshow(\"Input\", image)\n",
    "cv2.imshow(\"Output\", output)\n",
    "cv2.waitKey(0)"
   ]
  },
  {
   "cell_type": "code",
   "execution_count": null,
   "metadata": {},
   "outputs": [],
   "source": []
  }
 ],
 "metadata": {
  "kernelspec": {
   "display_name": "Python 3",
   "language": "python",
   "name": "python3"
  },
  "language_info": {
   "codemirror_mode": {
    "name": "ipython",
    "version": 3
   },
   "file_extension": ".py",
   "mimetype": "text/x-python",
   "name": "python",
   "nbconvert_exporter": "python",
   "pygments_lexer": "ipython3",
   "version": "3.6.7"
  }
 },
 "nbformat": 4,
 "nbformat_minor": 2
}
